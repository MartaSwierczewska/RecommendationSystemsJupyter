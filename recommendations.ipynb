{
 "cells": [
  {
   "cell_type": "markdown",
   "id": "d7603fc4-7f61-4034-85a1-2ca5375c3b6a",
   "metadata": {
    "jp-MarkdownHeadingCollapsed": true,
    "tags": []
   },
   "source": [
    "<h2>Wprowadzenie</h2>\n",
    "\n",
    "<h3>Zestawy danych</h3>\n",
    "\n",
    "**Movies Dataset**\n",
    "\n",
    "The Movies Dataset został pobrany z serwisu Kaggle https://www.kaggle.com/rounakbanik/the-movies-dataset.\n",
    "\n",
    "Pliki zawierają metadane na temat 45 000 filmów pochodzących z oficjalnego zestawu danych MovieLens Dataset. Filmy pochodzą sprzed lipca 2017, zebrane są informacje takie jak obsada, zespół, fabularne słowa kluczowe, budżet, przychód, plakaty, daty wydania, języki wydania, firmy produkcyjne, kraje, liczba głosów TMDB i średnie głosów. Zestaw danych zawiera również pliki z 26 milionami ocen od 27 000 użytkownikówd dla wszystkich 45 000 filmów. Oceny wystawione zostały w skali od 1 do 5, pobrano je z oficjalnej strony MovieLens.\n",
    "\n",
    "Analiza będzie przebiegać przy wykorzystaniu następujących plików:\n",
    "\n",
    "- _moviesmetadata.csv: Główny plik metadanych filmów. Zawiera informacje o 45 000 filmach zawartych w zestawie danych Full MovieLens. Funkcje obejmują plakaty, tła, budżet, przychód, daty wydania, języki wydania, kraje produkcji i firmy produkcyjne.\n",
    "\n",
    "- keywords.csv: Zawiera słowa kluczowe fabuły filmowej dla filmów MovieLens. Dostępny w postaci obiektu JSON.\n",
    "\n",
    "- credits.csv: _Zawiera informacje o obsadzie i ekipie wszystkich naszych filmów. Dostępny w postaci obiektu JSON.\n",
    "\n",
    "- links.csv: Zawiera identyfikatory TMDB i IMDB wszystkich filmów znajdujących się w zestawie danych Full MovieLens.\n",
    "\n",
    "- _linkssmall.csv: Zawiera identyfikatory TMDB i IMDB małego podzbioru 9 000 filmów z pełnego zestawu danych.\n",
    "\n",
    "- ratings.csv: Oceny filmów wystawione przez użytkowników\n",
    "\n",
    "- _ratingssmall.csv: Podzbiór 100 000 ocen od 700 użytkowników do 9 000 filmów.\n",
    "\n",
    "**MovieLens**\n",
    "\n",
    "MovieLens został pobrany z https://grouplens.org/datasets/movielens/latest/\n",
    "\n",
    "Ze względu na problemy wydajnościowe przy wykorzystaniu pełnego zestawu danych (27 753 444 ocen, 1 108 997 aplikacji tagów, 58 098 filmów, 283 228 użytkowników), wykorzystano ml-latest-small.zip. Zestaw danych zawiera 100 000 ocen i 3 600 aplikacji tagów w 9 000 filmach. Dane te zostały utworzone przez 600 użytkowników w okresie od 09 stycznia 1995 do 26 września 2018 roku. Oceny są w skali od 1 do 5.\n",
    "\n",
    "Do utworzenia systemów rekomendacyjnych posłużą dwa pliki z zestawów danych MovieLens: ratings.csv oraz movies.csv. Dane ocen to oceny filmów wystawione przez użytkowników. W każdym wierszu znajdują się trzy pola:\n",
    "\n",
    "- userId,\n",
    "- movieId,\n",
    "- rating\n",
    "\n",
    "Każdy wiersz może być rozumiany jako zapis interakcji między użytkownikiem, a filmem. Dane filmów zawierają tytuł filmu i gatunki dla każdego identyfikatora filmu w danych ocen."
   ]
  },
  {
   "cell_type": "markdown",
   "id": "e2365c4d-4c70-4d67-825a-03d8b45f99a4",
   "metadata": {},
   "source": [
    "<h2>Prosty system rekomendacyjny</h2>\n",
    "\n",
    "Najprostszą metodą przy tworzeniu rekomendacji jest zaproponowanie użytkownikowi najbardziej popularnych produktów (ang. Simple Recommender). \n",
    "\n",
    "Do załadowania zestawu danych wykorzystano bibiliotekę **pandas**. Biblioteka ta służy głównie do manipulacji i analizy danych. Dane zaprezentowane są w formie tabelarycznej. Biblioteka Pandas jest wspierana przez tablicę NumPy do implementacji obiektów danych. Oferowane są gotowe struktury danych i operacje do manipulowania tabelami liczbowymi, szeregami czasowymi, obrazami i zbiorami danych przetwarzania języka naturalnego. Więcej informacji o pandas można się dowiedzieć z oficjalnej dokumentacji https://pandas.pydata.org/. \n",
    "\n",
    "Fragment kodu przedstawiony poniżej to wgranie pliku _movies_metadata.csv_ do tablicy danych _metadata_. Przed przystąpieniem do analizy danych, należy również poznać szczegóły danych."
   ]
  },
  {
   "cell_type": "code",
   "execution_count": null,
   "id": "baca9bbe-6be1-4941-9617-2af9bfcf294f",
   "metadata": {
    "tags": []
   },
   "outputs": [],
   "source": [
    "pip install pandas\n",
    "pip install scikit-learn\n",
    "pip install numpy\n",
    "pip install time\n",
    "pip install scipy\n",
    "pip install fuzzywuzzy"
   ]
  },
  {
   "cell_type": "code",
   "execution_count": 10,
   "id": "d9df2e96-f53b-40e7-97f3-4d5eef0ef20d",
   "metadata": {},
   "outputs": [
    {
     "data": {
      "text/html": [
       "<div>\n",
       "<style scoped>\n",
       "    .dataframe tbody tr th:only-of-type {\n",
       "        vertical-align: middle;\n",
       "    }\n",
       "\n",
       "    .dataframe tbody tr th {\n",
       "        vertical-align: top;\n",
       "    }\n",
       "\n",
       "    .dataframe thead th {\n",
       "        text-align: right;\n",
       "    }\n",
       "</style>\n",
       "<table border=\"1\" class=\"dataframe\">\n",
       "  <thead>\n",
       "    <tr style=\"text-align: right;\">\n",
       "      <th></th>\n",
       "      <th>adult</th>\n",
       "      <th>belongs_to_collection</th>\n",
       "      <th>budget</th>\n",
       "      <th>genres</th>\n",
       "      <th>homepage</th>\n",
       "      <th>id</th>\n",
       "      <th>imdb_id</th>\n",
       "      <th>original_language</th>\n",
       "      <th>original_title</th>\n",
       "      <th>overview</th>\n",
       "      <th>...</th>\n",
       "      <th>release_date</th>\n",
       "      <th>revenue</th>\n",
       "      <th>runtime</th>\n",
       "      <th>spoken_languages</th>\n",
       "      <th>status</th>\n",
       "      <th>tagline</th>\n",
       "      <th>title</th>\n",
       "      <th>video</th>\n",
       "      <th>vote_average</th>\n",
       "      <th>vote_count</th>\n",
       "    </tr>\n",
       "  </thead>\n",
       "  <tbody>\n",
       "    <tr>\n",
       "      <th>0</th>\n",
       "      <td>False</td>\n",
       "      <td>{'id': 10194, 'name': 'Toy Story Collection', ...</td>\n",
       "      <td>30000000</td>\n",
       "      <td>[{'id': 16, 'name': 'Animation'}, {'id': 35, '...</td>\n",
       "      <td>http://toystory.disney.com/toy-story</td>\n",
       "      <td>862</td>\n",
       "      <td>tt0114709</td>\n",
       "      <td>en</td>\n",
       "      <td>Toy Story</td>\n",
       "      <td>Led by Woody, Andy's toys live happily in his ...</td>\n",
       "      <td>...</td>\n",
       "      <td>1995-10-30</td>\n",
       "      <td>373554033.0</td>\n",
       "      <td>81.0</td>\n",
       "      <td>[{'iso_639_1': 'en', 'name': 'English'}]</td>\n",
       "      <td>Released</td>\n",
       "      <td>NaN</td>\n",
       "      <td>Toy Story</td>\n",
       "      <td>False</td>\n",
       "      <td>7.7</td>\n",
       "      <td>5415.0</td>\n",
       "    </tr>\n",
       "    <tr>\n",
       "      <th>1</th>\n",
       "      <td>False</td>\n",
       "      <td>NaN</td>\n",
       "      <td>65000000</td>\n",
       "      <td>[{'id': 12, 'name': 'Adventure'}, {'id': 14, '...</td>\n",
       "      <td>NaN</td>\n",
       "      <td>8844</td>\n",
       "      <td>tt0113497</td>\n",
       "      <td>en</td>\n",
       "      <td>Jumanji</td>\n",
       "      <td>When siblings Judy and Peter discover an encha...</td>\n",
       "      <td>...</td>\n",
       "      <td>1995-12-15</td>\n",
       "      <td>262797249.0</td>\n",
       "      <td>104.0</td>\n",
       "      <td>[{'iso_639_1': 'en', 'name': 'English'}, {'iso...</td>\n",
       "      <td>Released</td>\n",
       "      <td>Roll the dice and unleash the excitement!</td>\n",
       "      <td>Jumanji</td>\n",
       "      <td>False</td>\n",
       "      <td>6.9</td>\n",
       "      <td>2413.0</td>\n",
       "    </tr>\n",
       "    <tr>\n",
       "      <th>2</th>\n",
       "      <td>False</td>\n",
       "      <td>{'id': 119050, 'name': 'Grumpy Old Men Collect...</td>\n",
       "      <td>0</td>\n",
       "      <td>[{'id': 10749, 'name': 'Romance'}, {'id': 35, ...</td>\n",
       "      <td>NaN</td>\n",
       "      <td>15602</td>\n",
       "      <td>tt0113228</td>\n",
       "      <td>en</td>\n",
       "      <td>Grumpier Old Men</td>\n",
       "      <td>A family wedding reignites the ancient feud be...</td>\n",
       "      <td>...</td>\n",
       "      <td>1995-12-22</td>\n",
       "      <td>0.0</td>\n",
       "      <td>101.0</td>\n",
       "      <td>[{'iso_639_1': 'en', 'name': 'English'}]</td>\n",
       "      <td>Released</td>\n",
       "      <td>Still Yelling. Still Fighting. Still Ready for...</td>\n",
       "      <td>Grumpier Old Men</td>\n",
       "      <td>False</td>\n",
       "      <td>6.5</td>\n",
       "      <td>92.0</td>\n",
       "    </tr>\n",
       "    <tr>\n",
       "      <th>3</th>\n",
       "      <td>False</td>\n",
       "      <td>NaN</td>\n",
       "      <td>16000000</td>\n",
       "      <td>[{'id': 35, 'name': 'Comedy'}, {'id': 18, 'nam...</td>\n",
       "      <td>NaN</td>\n",
       "      <td>31357</td>\n",
       "      <td>tt0114885</td>\n",
       "      <td>en</td>\n",
       "      <td>Waiting to Exhale</td>\n",
       "      <td>Cheated on, mistreated and stepped on, the wom...</td>\n",
       "      <td>...</td>\n",
       "      <td>1995-12-22</td>\n",
       "      <td>81452156.0</td>\n",
       "      <td>127.0</td>\n",
       "      <td>[{'iso_639_1': 'en', 'name': 'English'}]</td>\n",
       "      <td>Released</td>\n",
       "      <td>Friends are the people who let you be yourself...</td>\n",
       "      <td>Waiting to Exhale</td>\n",
       "      <td>False</td>\n",
       "      <td>6.1</td>\n",
       "      <td>34.0</td>\n",
       "    </tr>\n",
       "    <tr>\n",
       "      <th>4</th>\n",
       "      <td>False</td>\n",
       "      <td>{'id': 96871, 'name': 'Father of the Bride Col...</td>\n",
       "      <td>0</td>\n",
       "      <td>[{'id': 35, 'name': 'Comedy'}]</td>\n",
       "      <td>NaN</td>\n",
       "      <td>11862</td>\n",
       "      <td>tt0113041</td>\n",
       "      <td>en</td>\n",
       "      <td>Father of the Bride Part II</td>\n",
       "      <td>Just when George Banks has recovered from his ...</td>\n",
       "      <td>...</td>\n",
       "      <td>1995-02-10</td>\n",
       "      <td>76578911.0</td>\n",
       "      <td>106.0</td>\n",
       "      <td>[{'iso_639_1': 'en', 'name': 'English'}]</td>\n",
       "      <td>Released</td>\n",
       "      <td>Just When His World Is Back To Normal... He's ...</td>\n",
       "      <td>Father of the Bride Part II</td>\n",
       "      <td>False</td>\n",
       "      <td>5.7</td>\n",
       "      <td>173.0</td>\n",
       "    </tr>\n",
       "  </tbody>\n",
       "</table>\n",
       "<p>5 rows × 24 columns</p>\n",
       "</div>"
      ],
      "text/plain": [
       "   adult                              belongs_to_collection    budget  \\\n",
       "0  False  {'id': 10194, 'name': 'Toy Story Collection', ...  30000000   \n",
       "1  False                                                NaN  65000000   \n",
       "2  False  {'id': 119050, 'name': 'Grumpy Old Men Collect...         0   \n",
       "3  False                                                NaN  16000000   \n",
       "4  False  {'id': 96871, 'name': 'Father of the Bride Col...         0   \n",
       "\n",
       "                                              genres  \\\n",
       "0  [{'id': 16, 'name': 'Animation'}, {'id': 35, '...   \n",
       "1  [{'id': 12, 'name': 'Adventure'}, {'id': 14, '...   \n",
       "2  [{'id': 10749, 'name': 'Romance'}, {'id': 35, ...   \n",
       "3  [{'id': 35, 'name': 'Comedy'}, {'id': 18, 'nam...   \n",
       "4                     [{'id': 35, 'name': 'Comedy'}]   \n",
       "\n",
       "                               homepage     id    imdb_id original_language  \\\n",
       "0  http://toystory.disney.com/toy-story    862  tt0114709                en   \n",
       "1                                   NaN   8844  tt0113497                en   \n",
       "2                                   NaN  15602  tt0113228                en   \n",
       "3                                   NaN  31357  tt0114885                en   \n",
       "4                                   NaN  11862  tt0113041                en   \n",
       "\n",
       "                original_title  \\\n",
       "0                    Toy Story   \n",
       "1                      Jumanji   \n",
       "2             Grumpier Old Men   \n",
       "3            Waiting to Exhale   \n",
       "4  Father of the Bride Part II   \n",
       "\n",
       "                                            overview  ... release_date  \\\n",
       "0  Led by Woody, Andy's toys live happily in his ...  ...   1995-10-30   \n",
       "1  When siblings Judy and Peter discover an encha...  ...   1995-12-15   \n",
       "2  A family wedding reignites the ancient feud be...  ...   1995-12-22   \n",
       "3  Cheated on, mistreated and stepped on, the wom...  ...   1995-12-22   \n",
       "4  Just when George Banks has recovered from his ...  ...   1995-02-10   \n",
       "\n",
       "       revenue runtime                                   spoken_languages  \\\n",
       "0  373554033.0    81.0           [{'iso_639_1': 'en', 'name': 'English'}]   \n",
       "1  262797249.0   104.0  [{'iso_639_1': 'en', 'name': 'English'}, {'iso...   \n",
       "2          0.0   101.0           [{'iso_639_1': 'en', 'name': 'English'}]   \n",
       "3   81452156.0   127.0           [{'iso_639_1': 'en', 'name': 'English'}]   \n",
       "4   76578911.0   106.0           [{'iso_639_1': 'en', 'name': 'English'}]   \n",
       "\n",
       "     status                                            tagline  \\\n",
       "0  Released                                                NaN   \n",
       "1  Released          Roll the dice and unleash the excitement!   \n",
       "2  Released  Still Yelling. Still Fighting. Still Ready for...   \n",
       "3  Released  Friends are the people who let you be yourself...   \n",
       "4  Released  Just When His World Is Back To Normal... He's ...   \n",
       "\n",
       "                         title  video vote_average vote_count  \n",
       "0                    Toy Story  False          7.7     5415.0  \n",
       "1                      Jumanji  False          6.9     2413.0  \n",
       "2             Grumpier Old Men  False          6.5       92.0  \n",
       "3            Waiting to Exhale  False          6.1       34.0  \n",
       "4  Father of the Bride Part II  False          5.7      173.0  \n",
       "\n",
       "[5 rows x 24 columns]"
      ]
     },
     "execution_count": 10,
     "metadata": {},
     "output_type": "execute_result"
    }
   ],
   "source": [
    "# https://www.datacamp.com/community/tutorials/recommender-systems-python\n",
    "import pandas as pd\n",
    "\n",
    "metadata = pd.read_csv('data/MoviesDataset/movies_metadata.csv', low_memory=False)\n",
    "metadata.head()"
   ]
  },
  {
   "cell_type": "markdown",
   "id": "92923a4e-5a61-40ad-87f6-1e9037593e4c",
   "metadata": {},
   "source": [
    "Dodatkowo warto zapoznać się z podstawowymi statystykami opisowymi zestawu danych, takimi jak centralna tendencja, rozproszenie i kształt rozkładu zbioru. Metoda **describe** służy do przeglądania podstawowych szczegółów statystycznych, takich jak percentyl, średnia czy odchylenie standardowe ramki danych lub serii wartości liczbowych."
   ]
  },
  {
   "cell_type": "code",
   "execution_count": null,
   "id": "16e2d03f-035b-4ebd-b899-6c13a6bd310c",
   "metadata": {},
   "outputs": [],
   "source": [
    "metadata.describe()"
   ]
  },
  {
   "cell_type": "markdown",
   "id": "21df484a-4f35-4d30-9e62-68c171622c3d",
   "metadata": {},
   "source": [
    "Celem systemu rekomendacyjnego w tej sekcji jest odnalezienie najbardziej popularnych filmów, które z dużym prawdopodobieństwem będą podobać się użytkownikom systemu. Jednakże, działanie polegające na posortowaniu filmów zgodnie z wystawionymi opiniami, może doprowadzić do zaburzonych wyników.\n",
    "\n",
    "Przy takiej implementacji metody, system nie brałby pod uwagę popularności filmu. W takiej sytuacji film ze średnią oceną 9, wystawioną przez 10 głosujących zostanie uznany za lepszy, niż film z oceną 8,9 na 10 000 głosów. W związku z tym wskaźnik faworyzowałby filmy z mniejszą liczbą głosujących z bardzo wysokimi ocenami. Wraz ze wzrostem liczby głosujących, ocena filmu jest regulowana i zbliża się do wartości, która odzwierciedla jakość filmu i daje użytkownikowi znacznie lepsze wyobrażenie o tym, który film powinien wybrać. Czasem dla filmów z bardzo małą liczbą wyborców, należy wziąć pod uwagę dodatkowe czynniki zewnętrzne.\n",
    "\n",
    "Biorąc pod uwagę potencjalne problemy opisane powyżej, zaleca się wykorzystanie oceny ważonej, która uwzględnia średnią ocenę i liczbę zgromadzonych głosów. Taki system sprawi, że film z 9 oceną na 100 000 głosujących uzyska znacznie wyższą punktację, niż film o tej samej ocenie, ale zaledwie od kilkuset głosujących.\n",
    "\n",
    "IMDB to internetowa baza danych na temat filmów i ludzi z nim związanych. Zawiera informacje o aktorach, reżyserach, scenarzystach, producentach, montażystach, operatorach, muzykach. W poniższej implementacji systemu wykorzystano ważoną formułę oceny dla Top 250 IMBD, przedstawioną za pomocą następującej formuły matematycznej.\n",
    "\n",
    "<br>\\begin{equation}\n",
    "    WeightedRating(WR) = (\\frac{v}{v+m}*R) + (\\frac{m}{v+m}*C)\n",
    "\\end{equation}\n",
    "\n",
    "gdzie:\n",
    "\n",
    "- $v$ to liczba głosów na dany film\n",
    "- $m$ to minimalna liczba głosów, wymagana aby film został uwzględniony\n",
    "- $R$ to średnia ocena danego filmu\n",
    "- $C$ to średnia ocena filmów udzielona przez wszystich użytkowników\n",
    "\n",
    "W zestawie danych istnieje informacja o liczbie głosów na dany film (_vote_count_) oraz uzyskanej średniej ocenie (_vote_average_). Na podstawie tych danych można obliczyć średnią ocenę filmów udzieloną przez wszystich użytkowników. Dodatkowo, przy użyciu kwantylu, w zbiorze danych zostaną jedynie filmy o znaczącej ilości głosów. Kwantyle to wartości cechy badanej zbiorowości, które dzielą uporządkowaną zbiorowość statystyczną na określone, równe części pod względem liczby jednostek statystycznych. Kwantylem rzędu $ q, gdzie (0<q<1) $ nazywamy taką liczbę $Q$, że $ q * 100\\% $ elementów danej zbiorowości statystycznej ma wartość nie większą od $Q$. \n",
    "\n",
    "Poniższa implementacja przyjmuje wartość $q$ na poziomie 90%, co oznacza, że do tabeli danych _movies_ zostaną przypisane filmy, które uzyskały więcej głosów niż 90% obiektów w zestawie danych."
   ]
  },
  {
   "cell_type": "code",
   "execution_count": 14,
   "id": "9155ca87-5199-4a86-b223-89301b64c11c",
   "metadata": {},
   "outputs": [],
   "source": [
    "C = metadata['vote_average'].mean()\n",
    "m = metadata['vote_count'].quantile(0.90)\n",
    "\n",
    "movies = metadata.copy().loc[metadata['vote_count'] >= m]"
   ]
  },
  {
   "cell_type": "markdown",
   "id": "ef5fff9d-5258-4354-b2a2-c591d70d43c6",
   "metadata": {},
   "source": [
    "Następnym krokiem jest zdefiniowanie funkcji, która zwracać będzie średnią ważoną ocen dla filmu. Parametry, przekazywane do funkcji to lista filmów, średnia wszystich głosów oraz mininamalna liczba głosów, potrzebna do uwzględnienia filmu w analizie. Obliczenia bazują na opisanej wcześniej formule matematycznej dla Top 250 IMBD. Oznaczenia we wzorze również pozostają takie same."
   ]
  },
  {
   "cell_type": "code",
   "execution_count": null,
   "id": "019448be-1d44-4562-94f9-dae3f8b7b990",
   "metadata": {},
   "outputs": [],
   "source": [
    "def weighted_rating(movies, m=m, C=C):\n",
    "    v = movies['vote_count']\n",
    "    R = movies['vote_average']\n",
    "    return (v/(v+m) * R) + (m/(m+v) * C)"
   ]
  },
  {
   "cell_type": "markdown",
   "id": "0b82fdaa-ed44-4d24-81be-38e19d9819eb",
   "metadata": {},
   "source": [
    "Do tabeli danych _movies_ zostanie dodana nowa kolumna, której wartości obliczane są za pomocą powyższej metody _weighted_rating_. W celu uzyskania finalnych propozycji najpopularniejszych filmów, należy posortować tabelę danych w kolejności malejącej na podstawie kolumny z wartościami oceny ważonej. Do reprezentacji wyników wypisano tytuł, liczbę głosów, średnią ocenę oraz ważoną ocenę 20 najlepszych filmów."
   ]
  },
  {
   "cell_type": "code",
   "execution_count": null,
   "id": "deaf3e29-09fc-491a-a6b9-454d8df673f2",
   "metadata": {},
   "outputs": [],
   "source": [
    "movies['score'] = movies.apply(weighted_rating, axis=1,)\n",
    "\n",
    "movies = movies.sort_values('score', ascending=False)\n",
    "movies[['title', 'vote_count', 'vote_average', 'score']].head(20)"
   ]
  },
  {
   "cell_type": "markdown",
   "id": "b47adcaa-ad9c-46b0-b282-78b1b5f10472",
   "metadata": {},
   "source": [
    "Porównanie uzyskanych wyników z listą Top 250 IMDB (https://www.imdb.com/chart/top/) wskazuje na wiele podobnych filmów, takich jak „Skazani na Shawshank” i „Ojciec chrzestny”."
   ]
  },
  {
   "cell_type": "markdown",
   "id": "41ac7e54-0366-462d-9304-7f7bb6a45e82",
   "metadata": {},
   "source": [
    "<h2>System oparty o filtrowanie kontekstowe (Tłumaczenie?)</h2>\n",
    "\n",
    "Obserwując zachowania i tendencje towarzyszące podejmowaniu decyzji, można zauważyć, ̇ze ludzie mają skłonność do wyboru produktów podobnych do tych, które podobały im się w przeszłości. Na tym przekonaniu bazuje idea systemów opartych o filtrowanie kontekstowe (ang. Content-based Filtering), gdzie polecony zostaje artykuł najbardziej zbliżony do poprzednio polubionych przez użytkownika. \n",
    "\n",
    "W tej sekcji zostanie przedstawiona implementacja sytemu rekomendacyjnego, opartego o filtrowanie kontekstowe. Polega na uwzględnieniu słów kluczowych z opisu produktu, bądź wystawionej przez użytkownika oceny w celu stworzenia wektorów w przestrzeni cech. Podobieństwo między wektorami preferencji użytkownika oraz atrybutami produktu obliczenie jest za pomocą miar podobieństwa, takich jak podobieństwo kosinusowe.\n",
    "\n",
    "Do załadowania zestawu danych wykorzystano bibiliotekę **pandas**. Fragment kodu przedstawiony poniżej to wgranie pliku _movies_metadata.csv_ do tablicy danych _metadata_. Ze względu na problemy wydajnościowe podczas analizy podad 45 000 filmów, tablica danych została zmniejszona do 25 000 rekordów."
   ]
  },
  {
   "cell_type": "code",
   "execution_count": null,
   "id": "82212ecb-dffe-41fd-9473-e4cbd8d146fe",
   "metadata": {},
   "outputs": [],
   "source": [
    "# https://www.datacamp.com/community/tutorials/recommender-systems-python\n",
    "import pandas as pd\n",
    "\n",
    "metadata = pd.read_csv('data/MoviesDataset/movies_metadata.csv', low_memory=False)\n",
    "metadata = metadata[:25000]"
   ]
  },
  {
   "cell_type": "markdown",
   "id": "0a04ee74-679a-4d3c-a1f1-dac376734cb9",
   "metadata": {},
   "source": [
    "Słowa kluczowe, charakteryzujące cechy produktu mogą być dostarczone przy dodawaniu artykułu do serwisu. Nie jest to jednak obowiązkowe działanie, dlatego brakujące atrybuty mogą zostać odnalezione w opisie produktu lub opinii wystawionych na jego temat. \n",
    "\n",
    "Jest to problem przetwarzania języka naturalnego. Należy wyodrębnić pewne cechy z danych tekstowych, obliczyć wektory cech dla każdego filmu, a następnie obliczyć podobieństwo między nimi. Wektory cech to wektorowa reprezentacja słów kluczowych, która niesie za sobą znaczenie semantyczne. Atrybuty filmu będą wyszukiwane w kolumnie _overview_ tabeli danych, przedstawionej poniżej."
   ]
  },
  {
   "cell_type": "code",
   "execution_count": null,
   "id": "eda2994e-626d-4ad7-98e3-a6b94c530c8d",
   "metadata": {},
   "outputs": [],
   "source": [
    "metadata['overview'].head(10)"
   ]
  },
  {
   "cell_type": "markdown",
   "id": "43f7866a-bf1a-480d-aeaa-3c2999e452ed",
   "metadata": {},
   "source": [
    "<h3>Wyodrębnienie słów kluczowych z opisu filmu</h3>\n",
    "\n",
    "Zarówno model preferencji, jak i wiedza na temat produktów zorientowana jest na atrybuty istniejących w systemie artykułów. Cechy artykułu mogą zostać pozyskane przy wykorzystaniu przetwarzania języka naturalnego, a konkretnie metody TF-IDF (ang. Term Frequency and Inverse Document Frequency), pozwalającej na reprezentację cech w przestrzeni wektorowej. Jest to jedna z metod obliczania wagi słów w oparciu o liczbę ich wystąpień, należąca do grupy algorytmów obliczających statystyczne wagi termów. TF-IDF informuje o częstości wystąpienia termów uwzględniając jednocześnie odpowiednie wagi znaczenia lokalnego termu i jego znaczenia w kontekście pełnej kolekcji.\n",
    "\n",
    "Wynikiem, uzyskanym po zastosowaniu TF-IDF jest macierz, w której każda kolumna reprezentuje słowo ze słownika ogólnego (wszystkie słowa, które pojawiają się w co najmniej jednym dokumencie). Rezultat metody TF-IDF to częstotliwość występowania słowa w opisie filmu, pomniejszona o liczbę opisów, w których występuje. Ma to na celu zmniejszenie znaczenia słów, które często pojawiają się w przeglądach fabuły, a tym samym ich znaczenia przy obliczaniu końcowego wyniku podobieństwa.\n",
    "\n",
    "Do wyodrębnienia słów kluczowych zastosowana zostanie moduł Scikit-learn. Jest to darmową biblioteką algorytmów z dziedziny uczenia maszynowego, napisana w języku Python i zbudowaną na bazie modułu SciPy. Moduł Scikit-learn udostępnia wiele algorytmów z dziedziny nadzorowanego i nienadzorowanego uczenia maszynowego w postaci spójnego interfejsu programistycznego. Scikit-learn posiada wbudowaną klasę TfIdfVectorizer, która tworzy macierz TF-IDF. Po zaimportowaniu modułu TF-IDF, należy usunąć z opisu słowa, które nie dostarczają żadnej wartości do analizy, takie jak \"the\" czy \"an\"."
   ]
  },
  {
   "cell_type": "code",
   "execution_count": 4,
   "id": "b8b621f1-2721-400e-9405-88c85e4379ac",
   "metadata": {
    "collapsed": true,
    "jupyter": {
     "outputs_hidden": true
    },
    "tags": []
   },
   "outputs": [
    {
     "ename": "ModuleNotFoundError",
     "evalue": "No module named 'sklearn'",
     "output_type": "error",
     "traceback": [
      "\u001b[0;31m---------------------------------------------------------------------------\u001b[0m",
      "\u001b[0;31mModuleNotFoundError\u001b[0m                       Traceback (most recent call last)",
      "\u001b[0;32m/var/folders/yy/p3gkqk011774kc0zdv6knz500000gn/T/ipykernel_941/2637593664.py\u001b[0m in \u001b[0;36m<module>\u001b[0;34m\u001b[0m\n\u001b[0;32m----> 1\u001b[0;31m \u001b[0;32mfrom\u001b[0m \u001b[0msklearn\u001b[0m\u001b[0;34m.\u001b[0m\u001b[0mfeature_extraction\u001b[0m\u001b[0;34m.\u001b[0m\u001b[0mtext\u001b[0m \u001b[0;32mimport\u001b[0m \u001b[0mTfidfVectorizer\u001b[0m\u001b[0;34m\u001b[0m\u001b[0;34m\u001b[0m\u001b[0m\n\u001b[0m\u001b[1;32m      2\u001b[0m \u001b[0;34m\u001b[0m\u001b[0m\n\u001b[1;32m      3\u001b[0m \u001b[0mtfidf\u001b[0m \u001b[0;34m=\u001b[0m \u001b[0mTfidfVectorizer\u001b[0m\u001b[0;34m(\u001b[0m\u001b[0mstop_words\u001b[0m\u001b[0;34m=\u001b[0m\u001b[0;34m'english'\u001b[0m\u001b[0;34m)\u001b[0m\u001b[0;34m\u001b[0m\u001b[0;34m\u001b[0m\u001b[0m\n\u001b[1;32m      4\u001b[0m \u001b[0mmetadata\u001b[0m\u001b[0;34m[\u001b[0m\u001b[0;34m'overview'\u001b[0m\u001b[0;34m]\u001b[0m \u001b[0;34m=\u001b[0m \u001b[0mmetadata\u001b[0m\u001b[0;34m[\u001b[0m\u001b[0;34m'overview'\u001b[0m\u001b[0;34m]\u001b[0m\u001b[0;34m.\u001b[0m\u001b[0mfillna\u001b[0m\u001b[0;34m(\u001b[0m\u001b[0;34m''\u001b[0m\u001b[0;34m)\u001b[0m\u001b[0;34m\u001b[0m\u001b[0;34m\u001b[0m\u001b[0m\n\u001b[1;32m      5\u001b[0m \u001b[0mtfidf_matrix\u001b[0m \u001b[0;34m=\u001b[0m \u001b[0mtfidf\u001b[0m\u001b[0;34m.\u001b[0m\u001b[0mfit_transform\u001b[0m\u001b[0;34m(\u001b[0m\u001b[0mmetadata\u001b[0m\u001b[0;34m[\u001b[0m\u001b[0;34m'overview'\u001b[0m\u001b[0;34m]\u001b[0m\u001b[0;34m)\u001b[0m\u001b[0;34m\u001b[0m\u001b[0;34m\u001b[0m\u001b[0m\n",
      "\u001b[0;31mModuleNotFoundError\u001b[0m: No module named 'sklearn'"
     ]
    }
   ],
   "source": [
    "from sklearn.feature_extraction.text import TfidfVectorizer\n",
    "\n",
    "tfidf = TfidfVectorizer(stop_words='english')\n",
    "metadata['overview'] = metadata['overview'].fillna('')\n",
    "tfidf_matrix = tfidf.fit_transform(metadata['overview'])"
   ]
  },
  {
   "cell_type": "markdown",
   "id": "f02380c9-0952-4dce-b0ba-0c275d945b54",
   "metadata": {},
   "source": [
    "Za pomocą metody _shape_ zobaczyć można jak wiele słów kluczowych zostało wyodrębionych. Wynik (25000, 53130) informuje o odnalezieniu 53 130 odrębnych słów dla 25 000 filmów. Dodatkowo, za pomocą funkcji _get_feature_names_, sprawdzić można jakie słowa zostały wydrębione. Czasem nie przynoszą one bezpośredniej wartości dla użytkownika, jednak dla systemu częstotliwość ich występowania pomaga zdecydować o charakterystyce filmu."
   ]
  },
  {
   "cell_type": "code",
   "execution_count": null,
   "id": "e980ec58-6afa-4ea1-bd2b-73e0a527f514",
   "metadata": {},
   "outputs": [],
   "source": [
    "print(tfidf_matrix.shape)\n",
    "print(tfidf.get_feature_names()[25000:25010])"
   ]
  },
  {
   "cell_type": "markdown",
   "id": "559877ff-c7ef-468b-9e93-a336c4c318ef",
   "metadata": {},
   "source": [
    "<h3>Obliczanie miary podobieństwa wektorów</h3>\n",
    "\n",
    "Mając do dyspozycji macierz tf-idf, można obliczyć podobieństwo między wektorami cech, w celu odnalezienia zbliżonych do siebie filmów. Zidentyfikowanie podobnych do siebie wektorów, pozwala na trafną rekomendację produktu. Miarę podobieństwa między wektorami można obliczyć, używając wybranego sposobu:\n",
    "\n",
    "- odległość Euklidesowa\n",
    "- współczynnik korelacji Pearsona\n",
    "- odległość kosinusowa\n",
    "\n",
    "Nie istnieje konkretna odpowiedź na pytanie, który miara podobieństwa jest najlepsza. Różne podejścia sprawdzają się dobrze w rozmaitych scenariuszach, dlatego też dobrym pomysłem jest eksperymentowanie z różnymi danymi i obserwowanie wyników.\n",
    "\n",
    "Wynik podobieństwa kosinusowego, jest niezależny od wielkości danych oraz stosunkowo łatwy i szybki do obliczenia. Miara kosinusowa jest szczególnie efektywna, jeżeli obliczenia wykonywane są na wynikach TF-IDF. Matematycznie definiowana jest w następujący sposób:\n",
    "\n",
    "<br>\\begin{equation}\n",
    "    \\cos(\\phi) = \\frac{X\\cdot Y}{|X|\\hspace{0.05cm}|Y|} = \\frac{\\sum_{i=1}^n x_i y_i}{\\sqrt{\\sum_{i=1}^n x_i^2}\\sqrt{\\sum_{i=1}^n y_i^2}}\n",
    "\\end{equation}\n",
    "\n",
    "Zastosowanie wektoryzatora TF-IDF, sprawia że obliczenie iloczynu skalarnego między każdym wektorem bezpośrednio to wynik podobieństwa kosinusowego. Z tego powodu, do obliczenia podobieństwa wektorów, użycie metody _linear_kernel()_ biblioteki _sklearn_ jest bardziej efektywne, niż klasyczna metoda _cosine_similarities()_.\n",
    "\n",
    "Dodatkowo, do prawidłowego funkcjonowania systemu rekomendacyjnego należy zastosować mapowanie filmów i indeksów tabeli danych. Pozwoli to na późniejszą identyfikację indeksu, biorąc pod uwagę tytuł filmu."
   ]
  },
  {
   "cell_type": "code",
   "execution_count": null,
   "id": "30021a77-27ea-46ae-b7b3-b810c4e9a625",
   "metadata": {},
   "outputs": [],
   "source": [
    "from sklearn.metrics.pairwise import linear_kernel\n",
    "\n",
    "cosine_sim = linear_kernel(tfidf_matrix, tfidf_matrix)\n",
    "indices = pd.Series(metadata.index, index=metadata['title']).drop_duplicates()"
   ]
  },
  {
   "cell_type": "markdown",
   "id": "1850310e-f382-4f04-b162-58cca0a9b609",
   "metadata": {},
   "source": [
    "_Cosine_sim_ to macierz o rozmiarze (25000, 25000), co oznacza, że zawiera wyniki podobieństwa kosinusowego każdego filmu z każdym innym w zestawie danych. Wyświetlenie danych dla jednego filmu to wektor kolumnowy o rozmiarze (1,25000), gdzie kolumna zawiera wartości podobieństwa z każdym filmem."
   ]
  },
  {
   "cell_type": "code",
   "execution_count": null,
   "id": "aa6bfb9d-1105-4665-9408-b3e0166cbfcb",
   "metadata": {},
   "outputs": [],
   "source": [
    "print(cosine_sim.shape)\n",
    "print(cosine_sim[1])"
   ]
  },
  {
   "cell_type": "markdown",
   "id": "676e9d42-aa3e-4472-ad1b-9a40f0b729d7",
   "metadata": {},
   "source": [
    "<h3>Rekomendacje filmów</h3>\n",
    "\n",
    "Poniżej przedstawiono implementację głównej funkcji systemu, która zwraca listę filmów podobnych do tytułu w parametrach metody. Oprócz tego, metoda wymaga również przekazania macierzy z obliczonymi podobieństwami wektorów cech. Algorytm odnalezienie najlepszych propozycji przebiega w następujących krokach:\n",
    "\n",
    "- Odnalezienie indeksu dla filmu, którego tytuł został podany w parametrach funkcji\n",
    "- Uzyskanie wyników podobieństwa kosinusowego dla podanego filmu z pozostałymi w macierzy\n",
    "- Przeksztacenie wyników w listę krotek, gdzie pierwszy element to indeks filmu, a drugi to wynik podobieństwa\n",
    "- Posortowanie wyżej wymienionej listy krotek na podstawie wyników podobieństwa\n",
    "- Wydzielenie 10 najbliższych filmów z tej listy, z pominięciem pierwszego elementu\n",
    "- Zwrócenie tytułów, odpowiadających indeksom elementów"
   ]
  },
  {
   "cell_type": "code",
   "execution_count": null,
   "id": "103c7f2f-191a-46e7-9c56-c59388f1e8eb",
   "metadata": {},
   "outputs": [],
   "source": [
    "def get_recommendations(title, cosine_sim=cosine_sim):\n",
    "    idx = indices[title]\n",
    "    sim_scores = list(enumerate(cosine_sim[idx]))\n",
    "    sim_scores = sorted(sim_scores, key=lambda x: x[1], reverse=True)\n",
    "    sim_scores = sim_scores[1:11]\n",
    "    movie_indices = [i[0] for i in sim_scores]\n",
    "    return metadata['title'].iloc[movie_indices]"
   ]
  },
  {
   "cell_type": "markdown",
   "id": "3cf727e2-5a15-45c2-80d0-b1f2a4f44a6a",
   "metadata": {},
   "source": [
    "Wywołanie metody _get_recommendations_ wraz z wybranym tytułem filmu zwraca listę tytułów, najbardziej zbliżonych do filmu przekazanego w parametrach. Przykładowo dla filmu \"Mroczny rycerz powstaje\" (ang. The Dark Knight Rises) w reżyserii Christophera Nolana, zwrócone zostać powinny filmy akcji o podobnej tematyce. "
   ]
  },
  {
   "cell_type": "code",
   "execution_count": null,
   "id": "39903e6d-0d1d-4fec-af56-5049cd44e9ea",
   "metadata": {},
   "outputs": [],
   "source": [
    "get_recommendations('The Dark Knight Rises')"
   ]
  },
  {
   "cell_type": "markdown",
   "id": "5649b8bd-9021-402d-b8ad-3b621bd33fc5",
   "metadata": {},
   "source": [
    "<br>System rekomendacyjny bardzo trafnie przewidział, które filmy są podobne do \"Mroczny rycerz powstaje\". Zauważyć można, że wszystkie polecone pozycje to seria filmów Batmana, co zdecydowanie ma swoje zastosowanie biznesowe. Jednak polecanie filmów tak bardzo zbliżonych do siebie sprawia, że jakość rekomendacji spada. Użytkownicy systemu, którym podobał się film \"Mroczny rycerz powstaje\" mogą być zainteresowani innymi pozycjami filmowymi reżyserii Christophera Nolana. Jest to zatem czynnik, którego aktualny system rekomendacyjny nie może uchwycić."
   ]
  },
  {
   "cell_type": "markdown",
   "id": "7ebdbfac-c2f3-4fc7-bb0e-285012c885dc",
   "metadata": {},
   "source": [
    "<h3>Uwzględnienie szczegółowych metadanych filmu</h3> \n",
    "\n",
    "Jakość systemu rekomendacyjnego może zostać zwiększona poprzez uwzględnienie bardziej szczegółowych metadanych. W poprzedniej części cechy filmu wyodrębnione zostały z opisu, co przyczyniło się do zaproponowania jedynie tych filmów, których fabuła jest zbliżona do tytułu, przekazanego w parametrze funkcji. \n",
    "\n",
    "W tej części notatnika przedstawione zostanie jak zaimplementować system rekomendacyjny w oparciu o następujące metadane: \n",
    "- reżyser filmu\n",
    "- 3 najlepszych aktorów\n",
    "- pokrewne gatunki\n",
    "- słowa kluczowe fabuły filmu\n",
    "\n",
    "Słowa kluczowe, obsada i dane zespołu nie są dostępne w bieżącym zbiorze danych. Pierwszym krokiem jest więc pobranie i dołączenie ich do głównych danych z pliku _movies_metadata.csv_."
   ]
  },
  {
   "cell_type": "code",
   "execution_count": 6,
   "id": "494b9ee4-8b01-4019-83d1-a94ee91c74ff",
   "metadata": {
    "tags": []
   },
   "outputs": [
    {
     "data": {
      "text/html": [
       "<div>\n",
       "<style scoped>\n",
       "    .dataframe tbody tr th:only-of-type {\n",
       "        vertical-align: middle;\n",
       "    }\n",
       "\n",
       "    .dataframe tbody tr th {\n",
       "        vertical-align: top;\n",
       "    }\n",
       "\n",
       "    .dataframe thead th {\n",
       "        text-align: right;\n",
       "    }\n",
       "</style>\n",
       "<table border=\"1\" class=\"dataframe\">\n",
       "  <thead>\n",
       "    <tr style=\"text-align: right;\">\n",
       "      <th></th>\n",
       "      <th>adult</th>\n",
       "      <th>belongs_to_collection</th>\n",
       "      <th>budget</th>\n",
       "      <th>genres</th>\n",
       "      <th>homepage</th>\n",
       "      <th>id</th>\n",
       "      <th>imdb_id</th>\n",
       "      <th>original_language</th>\n",
       "      <th>original_title</th>\n",
       "      <th>overview</th>\n",
       "      <th>...</th>\n",
       "      <th>spoken_languages</th>\n",
       "      <th>status</th>\n",
       "      <th>tagline</th>\n",
       "      <th>title</th>\n",
       "      <th>video</th>\n",
       "      <th>vote_average</th>\n",
       "      <th>vote_count</th>\n",
       "      <th>cast</th>\n",
       "      <th>crew</th>\n",
       "      <th>keywords</th>\n",
       "    </tr>\n",
       "  </thead>\n",
       "  <tbody>\n",
       "    <tr>\n",
       "      <th>0</th>\n",
       "      <td>False</td>\n",
       "      <td>{'id': 10194, 'name': 'Toy Story Collection', ...</td>\n",
       "      <td>30000000</td>\n",
       "      <td>[{'id': 16, 'name': 'Animation'}, {'id': 35, '...</td>\n",
       "      <td>http://toystory.disney.com/toy-story</td>\n",
       "      <td>862</td>\n",
       "      <td>tt0114709</td>\n",
       "      <td>en</td>\n",
       "      <td>Toy Story</td>\n",
       "      <td>Led by Woody, Andy's toys live happily in his ...</td>\n",
       "      <td>...</td>\n",
       "      <td>[{'iso_639_1': 'en', 'name': 'English'}]</td>\n",
       "      <td>Released</td>\n",
       "      <td>NaN</td>\n",
       "      <td>Toy Story</td>\n",
       "      <td>False</td>\n",
       "      <td>7.7</td>\n",
       "      <td>5415.0</td>\n",
       "      <td>[{'cast_id': 14, 'character': 'Woody (voice)',...</td>\n",
       "      <td>[{'credit_id': '52fe4284c3a36847f8024f49', 'de...</td>\n",
       "      <td>[{'id': 931, 'name': 'jealousy'}, {'id': 4290,...</td>\n",
       "    </tr>\n",
       "    <tr>\n",
       "      <th>1</th>\n",
       "      <td>False</td>\n",
       "      <td>NaN</td>\n",
       "      <td>65000000</td>\n",
       "      <td>[{'id': 12, 'name': 'Adventure'}, {'id': 14, '...</td>\n",
       "      <td>NaN</td>\n",
       "      <td>8844</td>\n",
       "      <td>tt0113497</td>\n",
       "      <td>en</td>\n",
       "      <td>Jumanji</td>\n",
       "      <td>When siblings Judy and Peter discover an encha...</td>\n",
       "      <td>...</td>\n",
       "      <td>[{'iso_639_1': 'en', 'name': 'English'}, {'iso...</td>\n",
       "      <td>Released</td>\n",
       "      <td>Roll the dice and unleash the excitement!</td>\n",
       "      <td>Jumanji</td>\n",
       "      <td>False</td>\n",
       "      <td>6.9</td>\n",
       "      <td>2413.0</td>\n",
       "      <td>[{'cast_id': 1, 'character': 'Alan Parrish', '...</td>\n",
       "      <td>[{'credit_id': '52fe44bfc3a36847f80a7cd1', 'de...</td>\n",
       "      <td>[{'id': 10090, 'name': 'board game'}, {'id': 1...</td>\n",
       "    </tr>\n",
       "    <tr>\n",
       "      <th>2</th>\n",
       "      <td>False</td>\n",
       "      <td>{'id': 119050, 'name': 'Grumpy Old Men Collect...</td>\n",
       "      <td>0</td>\n",
       "      <td>[{'id': 10749, 'name': 'Romance'}, {'id': 35, ...</td>\n",
       "      <td>NaN</td>\n",
       "      <td>15602</td>\n",
       "      <td>tt0113228</td>\n",
       "      <td>en</td>\n",
       "      <td>Grumpier Old Men</td>\n",
       "      <td>A family wedding reignites the ancient feud be...</td>\n",
       "      <td>...</td>\n",
       "      <td>[{'iso_639_1': 'en', 'name': 'English'}]</td>\n",
       "      <td>Released</td>\n",
       "      <td>Still Yelling. Still Fighting. Still Ready for...</td>\n",
       "      <td>Grumpier Old Men</td>\n",
       "      <td>False</td>\n",
       "      <td>6.5</td>\n",
       "      <td>92.0</td>\n",
       "      <td>[{'cast_id': 2, 'character': 'Max Goldman', 'c...</td>\n",
       "      <td>[{'credit_id': '52fe466a9251416c75077a89', 'de...</td>\n",
       "      <td>[{'id': 1495, 'name': 'fishing'}, {'id': 12392...</td>\n",
       "    </tr>\n",
       "    <tr>\n",
       "      <th>3</th>\n",
       "      <td>False</td>\n",
       "      <td>NaN</td>\n",
       "      <td>16000000</td>\n",
       "      <td>[{'id': 35, 'name': 'Comedy'}, {'id': 18, 'nam...</td>\n",
       "      <td>NaN</td>\n",
       "      <td>31357</td>\n",
       "      <td>tt0114885</td>\n",
       "      <td>en</td>\n",
       "      <td>Waiting to Exhale</td>\n",
       "      <td>Cheated on, mistreated and stepped on, the wom...</td>\n",
       "      <td>...</td>\n",
       "      <td>[{'iso_639_1': 'en', 'name': 'English'}]</td>\n",
       "      <td>Released</td>\n",
       "      <td>Friends are the people who let you be yourself...</td>\n",
       "      <td>Waiting to Exhale</td>\n",
       "      <td>False</td>\n",
       "      <td>6.1</td>\n",
       "      <td>34.0</td>\n",
       "      <td>[{'cast_id': 1, 'character': \"Savannah 'Vannah...</td>\n",
       "      <td>[{'credit_id': '52fe44779251416c91011acb', 'de...</td>\n",
       "      <td>[{'id': 818, 'name': 'based on novel'}, {'id':...</td>\n",
       "    </tr>\n",
       "    <tr>\n",
       "      <th>4</th>\n",
       "      <td>False</td>\n",
       "      <td>{'id': 96871, 'name': 'Father of the Bride Col...</td>\n",
       "      <td>0</td>\n",
       "      <td>[{'id': 35, 'name': 'Comedy'}]</td>\n",
       "      <td>NaN</td>\n",
       "      <td>11862</td>\n",
       "      <td>tt0113041</td>\n",
       "      <td>en</td>\n",
       "      <td>Father of the Bride Part II</td>\n",
       "      <td>Just when George Banks has recovered from his ...</td>\n",
       "      <td>...</td>\n",
       "      <td>[{'iso_639_1': 'en', 'name': 'English'}]</td>\n",
       "      <td>Released</td>\n",
       "      <td>Just When His World Is Back To Normal... He's ...</td>\n",
       "      <td>Father of the Bride Part II</td>\n",
       "      <td>False</td>\n",
       "      <td>5.7</td>\n",
       "      <td>173.0</td>\n",
       "      <td>[{'cast_id': 1, 'character': 'George Banks', '...</td>\n",
       "      <td>[{'credit_id': '52fe44959251416c75039ed7', 'de...</td>\n",
       "      <td>[{'id': 1009, 'name': 'baby'}, {'id': 1599, 'n...</td>\n",
       "    </tr>\n",
       "  </tbody>\n",
       "</table>\n",
       "<p>5 rows × 27 columns</p>\n",
       "</div>"
      ],
      "text/plain": [
       "   adult                              belongs_to_collection    budget  \\\n",
       "0  False  {'id': 10194, 'name': 'Toy Story Collection', ...  30000000   \n",
       "1  False                                                NaN  65000000   \n",
       "2  False  {'id': 119050, 'name': 'Grumpy Old Men Collect...         0   \n",
       "3  False                                                NaN  16000000   \n",
       "4  False  {'id': 96871, 'name': 'Father of the Bride Col...         0   \n",
       "\n",
       "                                              genres  \\\n",
       "0  [{'id': 16, 'name': 'Animation'}, {'id': 35, '...   \n",
       "1  [{'id': 12, 'name': 'Adventure'}, {'id': 14, '...   \n",
       "2  [{'id': 10749, 'name': 'Romance'}, {'id': 35, ...   \n",
       "3  [{'id': 35, 'name': 'Comedy'}, {'id': 18, 'nam...   \n",
       "4                     [{'id': 35, 'name': 'Comedy'}]   \n",
       "\n",
       "                               homepage     id    imdb_id original_language  \\\n",
       "0  http://toystory.disney.com/toy-story    862  tt0114709                en   \n",
       "1                                   NaN   8844  tt0113497                en   \n",
       "2                                   NaN  15602  tt0113228                en   \n",
       "3                                   NaN  31357  tt0114885                en   \n",
       "4                                   NaN  11862  tt0113041                en   \n",
       "\n",
       "                original_title  \\\n",
       "0                    Toy Story   \n",
       "1                      Jumanji   \n",
       "2             Grumpier Old Men   \n",
       "3            Waiting to Exhale   \n",
       "4  Father of the Bride Part II   \n",
       "\n",
       "                                            overview  ...  \\\n",
       "0  Led by Woody, Andy's toys live happily in his ...  ...   \n",
       "1  When siblings Judy and Peter discover an encha...  ...   \n",
       "2  A family wedding reignites the ancient feud be...  ...   \n",
       "3  Cheated on, mistreated and stepped on, the wom...  ...   \n",
       "4  Just when George Banks has recovered from his ...  ...   \n",
       "\n",
       "                                    spoken_languages    status  \\\n",
       "0           [{'iso_639_1': 'en', 'name': 'English'}]  Released   \n",
       "1  [{'iso_639_1': 'en', 'name': 'English'}, {'iso...  Released   \n",
       "2           [{'iso_639_1': 'en', 'name': 'English'}]  Released   \n",
       "3           [{'iso_639_1': 'en', 'name': 'English'}]  Released   \n",
       "4           [{'iso_639_1': 'en', 'name': 'English'}]  Released   \n",
       "\n",
       "                                             tagline  \\\n",
       "0                                                NaN   \n",
       "1          Roll the dice and unleash the excitement!   \n",
       "2  Still Yelling. Still Fighting. Still Ready for...   \n",
       "3  Friends are the people who let you be yourself...   \n",
       "4  Just When His World Is Back To Normal... He's ...   \n",
       "\n",
       "                         title  video  vote_average  vote_count  \\\n",
       "0                    Toy Story  False           7.7      5415.0   \n",
       "1                      Jumanji  False           6.9      2413.0   \n",
       "2             Grumpier Old Men  False           6.5        92.0   \n",
       "3            Waiting to Exhale  False           6.1        34.0   \n",
       "4  Father of the Bride Part II  False           5.7       173.0   \n",
       "\n",
       "                                                cast  \\\n",
       "0  [{'cast_id': 14, 'character': 'Woody (voice)',...   \n",
       "1  [{'cast_id': 1, 'character': 'Alan Parrish', '...   \n",
       "2  [{'cast_id': 2, 'character': 'Max Goldman', 'c...   \n",
       "3  [{'cast_id': 1, 'character': \"Savannah 'Vannah...   \n",
       "4  [{'cast_id': 1, 'character': 'George Banks', '...   \n",
       "\n",
       "                                                crew  \\\n",
       "0  [{'credit_id': '52fe4284c3a36847f8024f49', 'de...   \n",
       "1  [{'credit_id': '52fe44bfc3a36847f80a7cd1', 'de...   \n",
       "2  [{'credit_id': '52fe466a9251416c75077a89', 'de...   \n",
       "3  [{'credit_id': '52fe44779251416c91011acb', 'de...   \n",
       "4  [{'credit_id': '52fe44959251416c75039ed7', 'de...   \n",
       "\n",
       "                                            keywords  \n",
       "0  [{'id': 931, 'name': 'jealousy'}, {'id': 4290,...  \n",
       "1  [{'id': 10090, 'name': 'board game'}, {'id': 1...  \n",
       "2  [{'id': 1495, 'name': 'fishing'}, {'id': 12392...  \n",
       "3  [{'id': 818, 'name': 'based on novel'}, {'id':...  \n",
       "4  [{'id': 1009, 'name': 'baby'}, {'id': 1599, 'n...  \n",
       "\n",
       "[5 rows x 27 columns]"
      ]
     },
     "execution_count": 6,
     "metadata": {},
     "output_type": "execute_result"
    }
   ],
   "source": [
    "import numpy as np\n",
    "import pandas as pd\n",
    "\n",
    "credits = pd.read_csv('data/MoviesDataset/credits.csv')\n",
    "keywords = pd.read_csv('data/MoviesDataset/keywords.csv')\n",
    "metadata = pd.read_csv('data/MoviesDataset/movies_metadata.csv', low_memory=False)\n",
    "metadata = metadata[:20000]\n",
    "\n",
    "metadata = metadata.drop(19730)\n",
    "\n",
    "keywords['id'] = keywords['id'].astype('int')\n",
    "credits['id'] = credits['id'].astype('int')\n",
    "metadata['id'] = metadata['id'].astype('int')\n",
    "\n",
    "metadata = metadata.merge(credits, on='id')\n",
    "metadata = metadata.merge(keywords, on='id')\n",
    "\n",
    "metadata.head()"
   ]
  },
  {
   "cell_type": "markdown",
   "id": "ada6aae9-0552-4465-98db-d34cfdf29ef5",
   "metadata": {},
   "source": [
    "<h3>Przygotowanie metadanych</h3>\n",
    "\n",
    "Aby uzyskać metadane, potrzebne do tej części implementacji należy wyodrębić najważniejszych aktorów, reżysera i słowa kluczowe związane z filmem. Utworzenie nowych kolumn w tablicy danych wymaga ich przekonwertowania do użytecznego formatu. Zastosowanie _literal_eval_ pozwala odnaleźć typ wartości przechowywanej w pliku lub tekstowym typie danych. Po konwersji można łatwo tworzyć i manipulować strukturami danych podczas wykonywania programua, a także zapisać je w plikach."
   ]
  },
  {
   "cell_type": "code",
   "execution_count": 13,
   "id": "b451d88c-f9bf-48b2-969a-88f144b2eb72",
   "metadata": {},
   "outputs": [],
   "source": [
    "from ast import literal_eval\n",
    "\n",
    "features = ['cast', 'crew', 'keywords', 'genres']\n",
    "for feature in features:\n",
    "    metadata[feature] = metadata[feature].apply(literal_eval)"
   ]
  },
  {
   "cell_type": "markdown",
   "id": "59eaabc6-0ada-4547-88bf-e02f14c74c6a",
   "metadata": {},
   "source": [
    "Następnym krokiem jest utworzenie funkcji, które zwracać będą potrzebne metadane. \n",
    "\n",
    "Metoda _get_director_ zwraca imię reżysera, dla przekazanego w parametrze obiektu danych, dotyczącego zespołu pracującego przy filmie. \n",
    "\n",
    "Zadaniem metody _get_list_ jest wyodrębnienie trzech pierwszych elementów lub całej listy, w zależności od jej długości. Funkcja ta zostanie wykorzystana przy metadanych, takich jak obsada, słowa kluczowe i gatunki filmowe."
   ]
  },
  {
   "cell_type": "code",
   "execution_count": 14,
   "id": "4bce9c7a-4b26-4257-b9b4-237c2836333e",
   "metadata": {},
   "outputs": [],
   "source": [
    "def get_director(crew):\n",
    "    for member in crew:\n",
    "        if member['job'] == 'Director':\n",
    "            return member['name']\n",
    "    return np.nan\n",
    "\n",
    "\n",
    "def get_list(data):\n",
    "    if isinstance(data, list):\n",
    "        names = [el['name'] for el in data]\n",
    "        if len(names) > 3:\n",
    "            names = names[:3]\n",
    "        return names\n",
    "    return []"
   ]
  },
  {
   "cell_type": "code",
   "execution_count": 15,
   "id": "b139eadb-da55-42f4-add0-b0cde7e36a7f",
   "metadata": {},
   "outputs": [],
   "source": [
    "metadata['director'] = metadata['crew'].apply(get_director)\n",
    "\n",
    "features = ['cast', 'keywords', 'genres']\n",
    "for feature in features:\n",
    "    metadata[feature] = metadata[feature].apply(get_list)"
   ]
  },
  {
   "cell_type": "markdown",
   "id": "2bc20d20-f113-4e56-9e5e-3a99001b1807",
   "metadata": {},
   "source": [
    "Poniżej wyświetlono wyodrębnione metadane:\n",
    "\n",
    "- obsada (ang. cast)\n",
    "- reżyser (ang. director)\n",
    "- słowa kluczowe (ang. keywords)\n",
    "- gatunki filmowe (ang. genres)"
   ]
  },
  {
   "cell_type": "code",
   "execution_count": 16,
   "id": "9c9886ab-83e9-498f-b965-a4865814e870",
   "metadata": {},
   "outputs": [
    {
     "data": {
      "text/html": [
       "<div>\n",
       "<style scoped>\n",
       "    .dataframe tbody tr th:only-of-type {\n",
       "        vertical-align: middle;\n",
       "    }\n",
       "\n",
       "    .dataframe tbody tr th {\n",
       "        vertical-align: top;\n",
       "    }\n",
       "\n",
       "    .dataframe thead th {\n",
       "        text-align: right;\n",
       "    }\n",
       "</style>\n",
       "<table border=\"1\" class=\"dataframe\">\n",
       "  <thead>\n",
       "    <tr style=\"text-align: right;\">\n",
       "      <th></th>\n",
       "      <th>title</th>\n",
       "      <th>cast</th>\n",
       "      <th>director</th>\n",
       "      <th>keywords</th>\n",
       "      <th>genres</th>\n",
       "    </tr>\n",
       "  </thead>\n",
       "  <tbody>\n",
       "    <tr>\n",
       "      <th>0</th>\n",
       "      <td>Toy Story</td>\n",
       "      <td>[Tom Hanks, Tim Allen, Don Rickles]</td>\n",
       "      <td>John Lasseter</td>\n",
       "      <td>[jealousy, toy, boy]</td>\n",
       "      <td>[Animation, Comedy, Family]</td>\n",
       "    </tr>\n",
       "    <tr>\n",
       "      <th>1</th>\n",
       "      <td>Jumanji</td>\n",
       "      <td>[Robin Williams, Jonathan Hyde, Kirsten Dunst]</td>\n",
       "      <td>Joe Johnston</td>\n",
       "      <td>[board game, disappearance, based on children'...</td>\n",
       "      <td>[Adventure, Fantasy, Family]</td>\n",
       "    </tr>\n",
       "    <tr>\n",
       "      <th>2</th>\n",
       "      <td>Grumpier Old Men</td>\n",
       "      <td>[Walter Matthau, Jack Lemmon, Ann-Margret]</td>\n",
       "      <td>Howard Deutch</td>\n",
       "      <td>[fishing, best friend, duringcreditsstinger]</td>\n",
       "      <td>[Romance, Comedy]</td>\n",
       "    </tr>\n",
       "    <tr>\n",
       "      <th>3</th>\n",
       "      <td>Waiting to Exhale</td>\n",
       "      <td>[Whitney Houston, Angela Bassett, Loretta Devine]</td>\n",
       "      <td>Forest Whitaker</td>\n",
       "      <td>[based on novel, interracial relationship, sin...</td>\n",
       "      <td>[Comedy, Drama, Romance]</td>\n",
       "    </tr>\n",
       "    <tr>\n",
       "      <th>4</th>\n",
       "      <td>Father of the Bride Part II</td>\n",
       "      <td>[Steve Martin, Diane Keaton, Martin Short]</td>\n",
       "      <td>Charles Shyer</td>\n",
       "      <td>[baby, midlife crisis, confidence]</td>\n",
       "      <td>[Comedy]</td>\n",
       "    </tr>\n",
       "  </tbody>\n",
       "</table>\n",
       "</div>"
      ],
      "text/plain": [
       "                         title  \\\n",
       "0                    Toy Story   \n",
       "1                      Jumanji   \n",
       "2             Grumpier Old Men   \n",
       "3            Waiting to Exhale   \n",
       "4  Father of the Bride Part II   \n",
       "\n",
       "                                                cast         director  \\\n",
       "0                [Tom Hanks, Tim Allen, Don Rickles]    John Lasseter   \n",
       "1     [Robin Williams, Jonathan Hyde, Kirsten Dunst]     Joe Johnston   \n",
       "2         [Walter Matthau, Jack Lemmon, Ann-Margret]    Howard Deutch   \n",
       "3  [Whitney Houston, Angela Bassett, Loretta Devine]  Forest Whitaker   \n",
       "4         [Steve Martin, Diane Keaton, Martin Short]    Charles Shyer   \n",
       "\n",
       "                                            keywords  \\\n",
       "0                               [jealousy, toy, boy]   \n",
       "1  [board game, disappearance, based on children'...   \n",
       "2       [fishing, best friend, duringcreditsstinger]   \n",
       "3  [based on novel, interracial relationship, sin...   \n",
       "4                 [baby, midlife crisis, confidence]   \n",
       "\n",
       "                         genres  \n",
       "0   [Animation, Comedy, Family]  \n",
       "1  [Adventure, Fantasy, Family]  \n",
       "2             [Romance, Comedy]  \n",
       "3      [Comedy, Drama, Romance]  \n",
       "4                      [Comedy]  "
      ]
     },
     "execution_count": 16,
     "metadata": {},
     "output_type": "execute_result"
    }
   ],
   "source": [
    "metadata[['title', 'cast', 'director', 'keywords', 'genres']].head()"
   ]
  },
  {
   "cell_type": "markdown",
   "id": "36710a22-de5d-4fd1-87dc-c1c03309d963",
   "metadata": {},
   "source": [
    "<h3>Przetwarzanie wstępne</h3>\n",
    "\n",
    "Ważnym etapem przetwarzania wstępnego danych jest przekonwertowanie metadanych na małe litery i usunięcie wszystkich spacji między nimi. Działanie to jest konieczne do prawidłowego działania wektoryzatora. Przykładowo dla aktorów \"Johnny Depp\" oraz \"Johnny Galecki\" metoda uwzględniłaby jedynie imię, a więc zostaliby oni potraktowani jako ta sama osoba. Po etapie przetwarzania wstępnego wyżej wymienieni aktorzy będą reprezentowani jako „johnnydepp” i „johnnygalecki”, co pozwoli na ich odróżnienie."
   ]
  },
  {
   "cell_type": "code",
   "execution_count": 17,
   "id": "d86ffbaf-5160-46ab-92f4-ab5c50e5a4e7",
   "metadata": {},
   "outputs": [],
   "source": [
    "def clean_data(x):\n",
    "    if isinstance(x, list):\n",
    "        return [str.lower(i.replace(\" \", \"\")) for i in x]\n",
    "    else:\n",
    "        if isinstance(x, str):\n",
    "            return str.lower(x.replace(\" \", \"\"))\n",
    "        else:\n",
    "            return ''"
   ]
  },
  {
   "cell_type": "code",
   "execution_count": 18,
   "id": "d6fd773e-6a77-4efa-8b30-15d76bdfc952",
   "metadata": {},
   "outputs": [],
   "source": [
    "features = ['cast', 'keywords', 'director', 'genres']\n",
    "\n",
    "for feature in features:\n",
    "    metadata[feature] = metadata[feature].apply(clean_data)"
   ]
  },
  {
   "cell_type": "markdown",
   "id": "0262447a-badb-4f98-81fb-1e90e05438c1",
   "metadata": {},
   "source": [
    "Poniżej wyświetlono metadane po zmianie liter na małe oraz usunięciu spacji:"
   ]
  },
  {
   "cell_type": "code",
   "execution_count": 19,
   "id": "3aab3d48-33d6-48cd-bc80-26d3401a5c92",
   "metadata": {},
   "outputs": [
    {
     "data": {
      "text/html": [
       "<div>\n",
       "<style scoped>\n",
       "    .dataframe tbody tr th:only-of-type {\n",
       "        vertical-align: middle;\n",
       "    }\n",
       "\n",
       "    .dataframe tbody tr th {\n",
       "        vertical-align: top;\n",
       "    }\n",
       "\n",
       "    .dataframe thead th {\n",
       "        text-align: right;\n",
       "    }\n",
       "</style>\n",
       "<table border=\"1\" class=\"dataframe\">\n",
       "  <thead>\n",
       "    <tr style=\"text-align: right;\">\n",
       "      <th></th>\n",
       "      <th>title</th>\n",
       "      <th>cast</th>\n",
       "      <th>director</th>\n",
       "      <th>keywords</th>\n",
       "      <th>genres</th>\n",
       "    </tr>\n",
       "  </thead>\n",
       "  <tbody>\n",
       "    <tr>\n",
       "      <th>0</th>\n",
       "      <td>Toy Story</td>\n",
       "      <td>[tomhanks, timallen, donrickles]</td>\n",
       "      <td>johnlasseter</td>\n",
       "      <td>[jealousy, toy, boy]</td>\n",
       "      <td>[animation, comedy, family]</td>\n",
       "    </tr>\n",
       "    <tr>\n",
       "      <th>1</th>\n",
       "      <td>Jumanji</td>\n",
       "      <td>[robinwilliams, jonathanhyde, kirstendunst]</td>\n",
       "      <td>joejohnston</td>\n",
       "      <td>[boardgame, disappearance, basedonchildren'sbook]</td>\n",
       "      <td>[adventure, fantasy, family]</td>\n",
       "    </tr>\n",
       "    <tr>\n",
       "      <th>2</th>\n",
       "      <td>Grumpier Old Men</td>\n",
       "      <td>[waltermatthau, jacklemmon, ann-margret]</td>\n",
       "      <td>howarddeutch</td>\n",
       "      <td>[fishing, bestfriend, duringcreditsstinger]</td>\n",
       "      <td>[romance, comedy]</td>\n",
       "    </tr>\n",
       "    <tr>\n",
       "      <th>3</th>\n",
       "      <td>Waiting to Exhale</td>\n",
       "      <td>[whitneyhouston, angelabassett, lorettadevine]</td>\n",
       "      <td>forestwhitaker</td>\n",
       "      <td>[basedonnovel, interracialrelationship, single...</td>\n",
       "      <td>[comedy, drama, romance]</td>\n",
       "    </tr>\n",
       "    <tr>\n",
       "      <th>4</th>\n",
       "      <td>Father of the Bride Part II</td>\n",
       "      <td>[stevemartin, dianekeaton, martinshort]</td>\n",
       "      <td>charlesshyer</td>\n",
       "      <td>[baby, midlifecrisis, confidence]</td>\n",
       "      <td>[comedy]</td>\n",
       "    </tr>\n",
       "  </tbody>\n",
       "</table>\n",
       "</div>"
      ],
      "text/plain": [
       "                         title  \\\n",
       "0                    Toy Story   \n",
       "1                      Jumanji   \n",
       "2             Grumpier Old Men   \n",
       "3            Waiting to Exhale   \n",
       "4  Father of the Bride Part II   \n",
       "\n",
       "                                             cast        director  \\\n",
       "0                [tomhanks, timallen, donrickles]    johnlasseter   \n",
       "1     [robinwilliams, jonathanhyde, kirstendunst]     joejohnston   \n",
       "2        [waltermatthau, jacklemmon, ann-margret]    howarddeutch   \n",
       "3  [whitneyhouston, angelabassett, lorettadevine]  forestwhitaker   \n",
       "4         [stevemartin, dianekeaton, martinshort]    charlesshyer   \n",
       "\n",
       "                                            keywords  \\\n",
       "0                               [jealousy, toy, boy]   \n",
       "1  [boardgame, disappearance, basedonchildren'sbook]   \n",
       "2        [fishing, bestfriend, duringcreditsstinger]   \n",
       "3  [basedonnovel, interracialrelationship, single...   \n",
       "4                  [baby, midlifecrisis, confidence]   \n",
       "\n",
       "                         genres  \n",
       "0   [animation, comedy, family]  \n",
       "1  [adventure, fantasy, family]  \n",
       "2             [romance, comedy]  \n",
       "3      [comedy, drama, romance]  \n",
       "4                      [comedy]  "
      ]
     },
     "execution_count": 19,
     "metadata": {},
     "output_type": "execute_result"
    }
   ],
   "source": [
    "metadata[['title', 'cast', 'director', 'keywords', 'genres']].head()"
   ]
  },
  {
   "cell_type": "markdown",
   "id": "e45979ad-5b40-49af-acb7-b6330e2c808b",
   "metadata": {},
   "source": [
    "Należy utworzyć nową kolumnę w tablicy danych, która stanowić będzie ciąg, zawierającym wszystkie metadane, przekazywane do wektoryzatora. Poniższa funkcja _create_soup_ zwróci połączone wymagane kolumny (aktorzy, reżyser i słowa kluczowe) za pomocą spacji. Jest to ostatni etap przetwarzania wstępnego, a dane wyjściowe tej metody zostaną wprowadzone do modelu wektora słowa."
   ]
  },
  {
   "cell_type": "code",
   "execution_count": 20,
   "id": "0dc56aed-075c-47f2-b57d-1129fb25100d",
   "metadata": {},
   "outputs": [],
   "source": [
    "def create_soup(x):\n",
    "    return ' '.join(x['keywords']) + ' ' + ' '.join(x['cast']) + ' ' + x['director'] + ' ' + ' '.join(x['genres'])"
   ]
  },
  {
   "cell_type": "code",
   "execution_count": 21,
   "id": "5419aeaa-5372-4ba2-a203-98b5f8ddd687",
   "metadata": {},
   "outputs": [],
   "source": [
    "metadata['soup'] = metadata.apply(create_soup, axis=1)"
   ]
  },
  {
   "cell_type": "markdown",
   "id": "7b6832e8-5ad0-4ede-868e-46193b309dab",
   "metadata": {},
   "source": [
    "Poniżej wyświetlono metadane po zmianie liter na małe oraz usunięciu spacji:"
   ]
  },
  {
   "cell_type": "code",
   "execution_count": 22,
   "id": "d2d769fc-0c1b-43b6-ba79-ac2753d9e6db",
   "metadata": {},
   "outputs": [
    {
     "data": {
      "text/html": [
       "<div>\n",
       "<style scoped>\n",
       "    .dataframe tbody tr th:only-of-type {\n",
       "        vertical-align: middle;\n",
       "    }\n",
       "\n",
       "    .dataframe tbody tr th {\n",
       "        vertical-align: top;\n",
       "    }\n",
       "\n",
       "    .dataframe thead th {\n",
       "        text-align: right;\n",
       "    }\n",
       "</style>\n",
       "<table border=\"1\" class=\"dataframe\">\n",
       "  <thead>\n",
       "    <tr style=\"text-align: right;\">\n",
       "      <th></th>\n",
       "      <th>soup</th>\n",
       "    </tr>\n",
       "  </thead>\n",
       "  <tbody>\n",
       "    <tr>\n",
       "      <th>0</th>\n",
       "      <td>jealousy toy boy tomhanks timallen donrickles ...</td>\n",
       "    </tr>\n",
       "    <tr>\n",
       "      <th>1</th>\n",
       "      <td>boardgame disappearance basedonchildren'sbook ...</td>\n",
       "    </tr>\n",
       "    <tr>\n",
       "      <th>2</th>\n",
       "      <td>fishing bestfriend duringcreditsstinger walter...</td>\n",
       "    </tr>\n",
       "    <tr>\n",
       "      <th>3</th>\n",
       "      <td>basedonnovel interracialrelationship singlemot...</td>\n",
       "    </tr>\n",
       "    <tr>\n",
       "      <th>4</th>\n",
       "      <td>baby midlifecrisis confidence stevemartin dian...</td>\n",
       "    </tr>\n",
       "  </tbody>\n",
       "</table>\n",
       "</div>"
      ],
      "text/plain": [
       "                                                soup\n",
       "0  jealousy toy boy tomhanks timallen donrickles ...\n",
       "1  boardgame disappearance basedonchildren'sbook ...\n",
       "2  fishing bestfriend duringcreditsstinger walter...\n",
       "3  basedonnovel interracialrelationship singlemot...\n",
       "4  baby midlifecrisis confidence stevemartin dian..."
      ]
     },
     "execution_count": 22,
     "metadata": {},
     "output_type": "execute_result"
    }
   ],
   "source": [
    "metadata[['soup']].head()"
   ]
  },
  {
   "cell_type": "markdown",
   "id": "5801892e-9630-483c-98c2-720b025c7685",
   "metadata": {},
   "source": [
    "Kolejne kroki są takie same, jak w przypadku systemu rekomendacyjnego zaimplementowanego w sekcji powyżej, czyli opartego na opisie fabuły. \n",
    "\n",
    "Kluczową różnicą jest zastosowanie _CountVectorizer_ z biblioteki sklearn, zamiast TF-IDF. Głównym powodem jest brak komponentu odwrotnej częstotliwości dokumentu (IDF) w metodzie _CountVectorizer_. W obecnej sytuacji nie ma potrzeby, aby waga aktora lub reżysera zmiejszała się, jeśli zaistniał w stosunkowo większej liczbie filmów. "
   ]
  },
  {
   "cell_type": "code",
   "execution_count": 23,
   "id": "8cc4f0be-f0df-4de8-b457-7275ca399fa5",
   "metadata": {
    "collapsed": true,
    "jupyter": {
     "outputs_hidden": true
    },
    "tags": []
   },
   "outputs": [
    {
     "ename": "ModuleNotFoundError",
     "evalue": "No module named 'sklearn'",
     "output_type": "error",
     "traceback": [
      "\u001b[0;31m---------------------------------------------------------------------------\u001b[0m",
      "\u001b[0;31mModuleNotFoundError\u001b[0m                       Traceback (most recent call last)",
      "\u001b[0;32m/var/folders/yy/p3gkqk011774kc0zdv6knz500000gn/T/ipykernel_941/2265900352.py\u001b[0m in \u001b[0;36m<module>\u001b[0;34m\u001b[0m\n\u001b[0;32m----> 1\u001b[0;31m \u001b[0;32mfrom\u001b[0m \u001b[0msklearn\u001b[0m\u001b[0;34m.\u001b[0m\u001b[0mfeature_extraction\u001b[0m\u001b[0;34m.\u001b[0m\u001b[0mtext\u001b[0m \u001b[0;32mimport\u001b[0m \u001b[0mCountVectorizer\u001b[0m\u001b[0;34m\u001b[0m\u001b[0;34m\u001b[0m\u001b[0m\n\u001b[0m\u001b[1;32m      2\u001b[0m \u001b[0;34m\u001b[0m\u001b[0m\n\u001b[1;32m      3\u001b[0m \u001b[0mcount\u001b[0m \u001b[0;34m=\u001b[0m \u001b[0mCountVectorizer\u001b[0m\u001b[0;34m(\u001b[0m\u001b[0mstop_words\u001b[0m\u001b[0;34m=\u001b[0m\u001b[0;34m'english'\u001b[0m\u001b[0;34m)\u001b[0m\u001b[0;34m\u001b[0m\u001b[0;34m\u001b[0m\u001b[0m\n\u001b[1;32m      4\u001b[0m \u001b[0mcount_matrix\u001b[0m \u001b[0;34m=\u001b[0m \u001b[0mcount\u001b[0m\u001b[0;34m.\u001b[0m\u001b[0mfit_transform\u001b[0m\u001b[0;34m(\u001b[0m\u001b[0mmetadata\u001b[0m\u001b[0;34m[\u001b[0m\u001b[0;34m'soup'\u001b[0m\u001b[0;34m]\u001b[0m\u001b[0;34m)\u001b[0m\u001b[0;34m\u001b[0m\u001b[0;34m\u001b[0m\u001b[0m\n",
      "\u001b[0;31mModuleNotFoundError\u001b[0m: No module named 'sklearn'"
     ]
    }
   ],
   "source": [
    "from sklearn.feature_extraction.text import CountVectorizer\n",
    "\n",
    "count = CountVectorizer(stop_words='english')\n",
    "count_matrix = count.fit_transform(metadata['soup'])"
   ]
  },
  {
   "cell_type": "markdown",
   "id": "5ac2564c-e205-4ffc-ae7f-3a7b444592d6",
   "metadata": {},
   "source": [
    "Za pomocą metody _shape_ zobaczyć można jak wiele słów kluczowych zostało wyodrębionych. Wynik (20121, 36687) informuje o odnalezieniu 36 687 odrębnych słów. Dodatkowo, za pomocą funkcji _get_feature_names_, sprawdzić można jakie słowa zostały wydrębione. Czasem nie przynoszą one bezpośredniej wartości dla użytkownika, jednak dla systemu częstotliwość ich występowania pomaga zdecydować o charakterystyce filmu."
   ]
  },
  {
   "cell_type": "code",
   "execution_count": null,
   "id": "f440bf99-c0f6-4da9-826c-3fbb9d0fed98",
   "metadata": {},
   "outputs": [],
   "source": [
    "print(count_matrix.shape)\n",
    "print(count.get_feature_names()[25000:25010])"
   ]
  },
  {
   "cell_type": "markdown",
   "id": "e2cbc95b-c2b8-43a1-bda8-a1733444819b",
   "metadata": {},
   "source": [
    "<h3>Obliczanie miary podobieństwa wektorów</h3>\n",
    "\n",
    "Dodatkowo, do prawidłowego funkcjonowania systemu rekomendacyjnego należy zastosować mapowanie filmów i indeksów tabeli danych. Pozwoli to na późniejszą identyfikację indeksu, biorąc pod uwagę tytuł filmu."
   ]
  },
  {
   "cell_type": "code",
   "execution_count": null,
   "id": "2c9f4262-2909-40d4-9d6a-697e0acba499",
   "metadata": {},
   "outputs": [],
   "source": [
    "from sklearn.metrics.pairwise import cosine_similarity\n",
    "\n",
    "cosine_sim = cosine_similarity(count_matrix, count_matrix)\n",
    "\n",
    "metadata = metadata.reset_index()\n",
    "indices = pd.Series(metadata.index, index=metadata['title'])"
   ]
  },
  {
   "cell_type": "markdown",
   "id": "3eeee3f5-ee64-4176-a1f8-32ee93eeeedc",
   "metadata": {},
   "source": [
    "<h3>Rekomendacje filmów</h3>\n",
    "\n",
    "Poniżej przedstawiono implementację głównej funkcji systemu, która zwraca listę filmów podobnych do tytułu w parametrach metody. Oprócz tego, metoda wymaga również przekazania macierzy z obliczonymi podobieństwami wektorów cech. Algorytm odnalezienie najlepszych propozycji przebiega w następujących krokach:\n",
    "\n",
    "- Odnalezienie indeksu dla filmu, którego tytuł został podany w parametrach funkcji\n",
    "- Uzyskanie wyników podobieństwa kosinusowego dla podanego filmu z pozostałymi w macierzy\n",
    "- Przeksztacenie wyników w listę krotek, gdzie pierwszy element to indeks filmu, a drugi to wynik podobieństwa\n",
    "- Posortowanie wyżej wymienionej listy krotek na podstawie wyników podobieństwa\n",
    "- Wydzielenie 10 najbliższych filmów z tej listy, z pominięciem pierwszego elementu\n",
    "- Zwrócenie tytułów, odpowiadających indeksom elementów"
   ]
  },
  {
   "cell_type": "code",
   "execution_count": null,
   "id": "e16e7b83-9c8a-400a-9887-e3e4922e743a",
   "metadata": {},
   "outputs": [],
   "source": [
    "def get_recommendations(title, cosine_sim=cosine_sim):\n",
    "    idx = indices[title]\n",
    "    sim_scores = list(enumerate(cosine_sim[idx]))\n",
    "    sim_scores = sorted(sim_scores, key=lambda x: x[1], reverse=True)\n",
    "    sim_scores = sim_scores[1:11]\n",
    "    movie_indices = [i[0] for i in sim_scores]\n",
    "    return metadata['title'].iloc[movie_indices]"
   ]
  },
  {
   "cell_type": "markdown",
   "id": "4a1d9e96-ac51-47dc-812a-5489b571bda5",
   "metadata": {},
   "source": [
    "Wywołanie metody _get_recommendations_ wraz z wybranym tytułem filmu zwraca listę tytułów, najbardziej zbliżonych do filmu przekazanego w parametrach. Przykładowo dla filmu \"Mroczny rycerz powstaje\" (ang. The Dark Knight Rises) w reżyserii Christophera Nolana, zwrócone zostać powinny filmy akcji nie tylko o podobnej tematyce, lecz także uwzględniające metadane, takie jak reżyser, gatunek filmowy oraz obsada filmu."
   ]
  },
  {
   "cell_type": "code",
   "execution_count": null,
   "id": "6fec3117-6033-4169-b346-c32cc5fdabab",
   "metadata": {},
   "outputs": [],
   "source": [
    "get_recommendations('The Dark Knight Rises', cosine_sim)"
   ]
  },
  {
   "cell_type": "markdown",
   "id": "d1128324-2914-49de-9318-ac65044d8a48",
   "metadata": {},
   "source": [
    "<h2>Filtrowanie kolaboracyjne</h2>\n",
    "    \n",
    "W zaawansowanych systemach rekomendacyjnych bardzo ważne jest zagwarantowanie różnorodności polecanych produktów. Filtrowanie kolaboracyjne (ang. Collaborative Filtering) to technika używana w systemach rekomendacyjnych, która bazuje na idei, że podobni użytkownicy będą zainteresowani tymi samymi produktami. Tego rodzaju filtrowanie nie wymaga szczegółowych informacji na temat atrybutów produktu. Metody kolaboracyjne w systemach rekomendacyjnych bazują na interakcji między użytkownikami i produktami w systemie, co pozwala na utworzenie tzw. macierzy interakcji (ang. User-Item Interactions Matrix). \n",
    "\n",
    "W tej sekcji zostanie przedstawiona implementacja sytemu rekomendacyjnego, opartego o filtrowanie kolaboracyjne. Polega na wykorzystaniu działania użytkowników do polecania innych filmów. Popularnym podejściem do określenia podobieństwa użytkowników, wykorzystanym w tej sekcji, jest metoda **K najbliższych sąsiadów** (ang. K-nearest Neighbors Algorithm), pozwalająca na ich klasyfikację do odpowiadających profili preferencji. \n",
    "\n",
    "Do załadowania zestawu danych wykorzystano bibiliotekę **pandas**. Fragment kodu przedstawiony poniżej to wgranie plików _movies.csv_ oraz _ratings.csv_ do odpowiadających im tablic danych."
   ]
  },
  {
   "cell_type": "code",
   "execution_count": null,
   "id": "01fd6cbb-ae20-4790-8141-37df4964832a",
   "metadata": {},
   "outputs": [],
   "source": [
    "# https://towardsdatascience.com/prototyping-a-recommender-system-step-by-step-part-1-knn-item-based-collaborative-filtering-637969614ea\n",
    "\n",
    "import time\n",
    "import pandas as pd\n",
    "\n",
    "movies = pd.read_csv('data/MovieLens/movies.csv', usecols=['movieId', 'title'], dtype={'movieId': 'int32', 'title': 'str'})\n",
    "ratings = pd.read_csv('data/MovieLens/ratings.csv', usecols=['userId', 'movieId', 'rating'], dtype={'userId': 'int32', 'movieId': 'int32', 'rating': 'float32'})"
   ]
  },
  {
   "cell_type": "code",
   "execution_count": null,
   "id": "b0b77426-04a3-4c19-b5f6-9b3adc1f8d12",
   "metadata": {},
   "outputs": [],
   "source": [
    "movies.head()"
   ]
  },
  {
   "cell_type": "code",
   "execution_count": null,
   "id": "50ce0e20-b351-4a68-a8f9-81c221ab72cd",
   "metadata": {},
   "outputs": [],
   "source": [
    "ratings.head()"
   ]
  },
  {
   "cell_type": "markdown",
   "id": "2df2b271-b0ed-4e20-b323-8f480039ec77",
   "metadata": {},
   "source": [
    "<h3>Określanie podobieństwa wektorów</h3>\n",
    "\n",
    "Do implementacji algorytmu, opartego o filtrowanie kolaboracyjne oparte na obiekcie rekomendacji, metoda K najbliższych sąsiadów (KNN) jest jednym z lepszych podejść. Jest to jeden z algorytmów regresji nieparametrycznej, używanych w statystyce do prognozowania wartości pewnej zmiennej losowej oraz do klasyfikacji. \n",
    "\n",
    "KNN opiera się na podobieństwie cech elementów. na podstawie obliczonej „odległości” czyli różnicy między filmem docelowym, a każdym innym filmem w bazie danych. Posortowanie wartości pozwala na odnalezienie najbardziej zbliżonych wektorów cech, opisujących filmy, jako najlepsze rekomendacje.\n",
    "\n",
    "Algorytm odnajdywania najbliższych sąsiadów składa się z poniższych kroków:\n",
    "\n",
    "1. Wybranie $k$ punktów centralnych.\n",
    "2. Obliczenie odległości pozostałych punktów do punktów centralnych. Przypisanie punktów do najbliżej zlokalizowanych środków klastrów.\n",
    "3. Obliczenie średniej wartości elementów znajdujących się w klastrze i nadpisanie wartości punktu centralnego.  \n",
    "4. Jeżeli wartość punktu centralnego zmienia się o więcej niż określony próg, algorytm wraca do punktu $2$ i obliczenia są powtarzane. W przeciwnym wypadku algorytm kończy działanie zwracając pogrupowane obiekty. \n",
    "\n",
    "Poniżej przedstawiono transformację tablicy dnaych, tak aby mogła zostać przetworzona przez algorytm KNN. W tym celu potrzeba danych w formacie macierzy $m$ x $n$, gdzie $m$ to liczba filmów, a $n$ to liczba użytkowników. Zmiana rozmiaru danych jest możliwa przy wykorzystaniu metody _pivot_. Dodatkowo dla optymalizacji wyników należy przeformatować tablicę danych do macierzy z biblioteki _scipy_. "
   ]
  },
  {
   "cell_type": "code",
   "execution_count": null,
   "id": "a498aac6-1013-4dae-b0b8-aec2115e6ad0",
   "metadata": {},
   "outputs": [],
   "source": [
    "from scipy.sparse import csr_matrix\n",
    "\n",
    "movie_features = ratings.pivot(index='movieId', columns='userId', values='rating').fillna(0)\n",
    "mat_movie_features = csr_matrix(movie_features.values)\n",
    "\n",
    "hashmap = {\n",
    "            movie: i for i, movie in\n",
    "            enumerate(list(movies.set_index('movieId').loc[movie_features.index].title))\n",
    "        }\n",
    "\n",
    "movie_features"
   ]
  },
  {
   "cell_type": "markdown",
   "id": "8cc6dd07-d04b-4e3d-9744-93544ea5f0c5",
   "metadata": {},
   "source": [
    "Analizując powyższą macierz, zauważyć można że dane treningowe są bardzo dużych wymiarów. Może być to powodem pogorszenia się wydajności KNN. \n",
    "\n",
    "Przykładowo, zastosowanie _odległości Euklidesowej_ w funkcji celu przy dużych wymiarach jest nieprzydatne, ponieważ wszystkie wektory są prawie w równej odległości od wektora głównego. \n",
    "\n",
    "Lepszym wyborem miary podobieństwa do odnalezienia najbliższego sąsiada jest _odległość kosinusowa_, która została wykorzystana w poniższej metodzie. _NearestNeighbors_ zostało zaimportowane z biblioteki sklearn, która oferuje wiele algorytmów klasyfikacji, regresji czy klastrowania."
   ]
  },
  {
   "cell_type": "code",
   "execution_count": null,
   "id": "d329f3f9-ccc5-40f7-ab0f-aac502c2cfb3",
   "metadata": {},
   "outputs": [],
   "source": [
    "from sklearn.neighbors import NearestNeighbors\n",
    "\n",
    "model_knn = NearestNeighbors(metric='cosine', algorithm='brute', n_neighbors=20, n_jobs=-1)"
   ]
  },
  {
   "cell_type": "markdown",
   "id": "bb025456-4681-48c9-b0c8-5c14ed63687c",
   "metadata": {},
   "source": [
    "<h3>Rekomendacje filmów</h3>\n",
    "\n",
    "Użytkownik nie musi znać dokładnego tytułu filmu, żeby móc skorzystać z systemu rekomendacyjnego. Dlatego też zaimplementowano metodę _fuzzy_matching_, która zwraca listę filmów, których tytuł jest najbardziej zbliżony do podanego przez użytkownika. "
   ]
  },
  {
   "cell_type": "code",
   "execution_count": null,
   "id": "af1d3cc7-d21e-4dfb-a6e0-0283df66d3bb",
   "metadata": {},
   "outputs": [],
   "source": [
    "from fuzzywuzzy import fuzz\n",
    "\n",
    "def fuzzy_matching(hashmap, fav_movie):\n",
    "        match_tuple = []\n",
    "        for title, idx in hashmap.items():\n",
    "            ratio = fuzz.ratio(title.lower(), fav_movie.lower())\n",
    "            if ratio >= 60: \n",
    "                match_tuple.append((title, idx, ratio))\n",
    "        match_tuple = sorted(match_tuple, key=lambda x: x[2])[::-1]\n",
    "        if not match_tuple:\n",
    "            print('No match is found')\n",
    "        else:\n",
    "            print('Found possible matches in database: {0}\\n'.format([x[0] for x in match_tuple]))\n",
    "            return match_tuple[0][1]"
   ]
  },
  {
   "cell_type": "markdown",
   "id": "01a8b94c-dfba-4814-8ea2-eba623e9f4c2",
   "metadata": {},
   "source": [
    "Metoda _inference_, zaimplementowana poniżej, zwraca najlepsze propozycje filmów dla tytułu, podanego przez użytkownika. Do odnalezienia nabliższego sąsiada wykorzystywany jest model uczenia maszynowego. Przy zastosowaniu funkcji, opisanej powyżej, oraz metody _kneighbors_ wytrenowanego modelu, odnajdywane są finalne propozycje filmowe. "
   ]
  },
  {
   "cell_type": "code",
   "execution_count": null,
   "id": "3ad6bc91-82df-4ede-a0c3-69acec92ca7f",
   "metadata": {},
   "outputs": [],
   "source": [
    "def inference(model, data, hashmap, fav_movie, n_recommendations):\n",
    "        model.fit(data)\n",
    "        print('You have input movie:', fav_movie)\n",
    "        idx = fuzzy_matching(hashmap, fav_movie)\n",
    "        print('Recommendation system start to make inference')\n",
    "        t0 = time.time()\n",
    "        distances, indices = model.kneighbors(\n",
    "            data[idx],\n",
    "            n_neighbors=n_recommendations+1)\n",
    "        raw_recommends = \\\n",
    "            sorted(\n",
    "                list(\n",
    "                    zip(\n",
    "                        indices.squeeze().tolist(),\n",
    "                        distances.squeeze().tolist()\n",
    "                    )\n",
    "                ),\n",
    "                key=lambda x: x[1]\n",
    "            )[:0:-1]\n",
    "        print('It took {:.2f}s to make inference \\n\\\n",
    "              '.format(time.time() - t0))\n",
    "        return raw_recommends"
   ]
  },
  {
   "cell_type": "markdown",
   "id": "b9a5239a-3d75-4ea6-be54-19eef50786ee",
   "metadata": {},
   "source": [
    "Z wykorzystaniem metod _fuzzy_matching_ oraz _inference_ możliwa jest implementacja ostatniej funkcji, która posłuży do rekomendacji filmów użytkownikowi, na podstawie podanego przez niego tytułu. Do utworzenia propozycj nie są uwzględniane atrybuty filmu, ani jasno określone preferencje użytkownika. Filmy odnalezione są poprzez zestawienie ze sobą profili preferencji użytkowników z macierzy interakcji oraz zidentyfikowanie zależności."
   ]
  },
  {
   "cell_type": "code",
   "execution_count": null,
   "id": "2379b154-150d-4e50-b0d5-c8671111d651",
   "metadata": {},
   "outputs": [],
   "source": [
    "def make_recommendations(fav_movie, n_recommendations):\n",
    "    raw_recommends = inference(model_knn,\n",
    "                               mat_movie_features, \n",
    "                               hashmap, fav_movie, \n",
    "                               n_recommendations)\n",
    "    reverse_hashmap = {v: k for k, v in hashmap.items()}\n",
    "    print('Recommendations for {}:'.format(fav_movie))\n",
    "    for i, (idx, dist) in enumerate(raw_recommends):\n",
    "        print('{0}: {1}, with distance '\n",
    "              'of {2}'.format(i+1, reverse_hashmap[idx], dist))"
   ]
  },
  {
   "cell_type": "code",
   "execution_count": null,
   "id": "600980bb-4ad3-4890-a2d5-94c29384f68b",
   "metadata": {},
   "outputs": [],
   "source": [
    "make_recommendations('Iron Man', 10)"
   ]
  }
 ],
 "metadata": {
  "kernelspec": {
   "display_name": "Python 3 (ipykernel)",
   "language": "python",
   "name": "python3"
  },
  "language_info": {
   "codemirror_mode": {
    "name": "ipython",
    "version": 3
   },
   "file_extension": ".py",
   "mimetype": "text/x-python",
   "name": "python",
   "nbconvert_exporter": "python",
   "pygments_lexer": "ipython3",
   "version": "3.9.9"
  }
 },
 "nbformat": 4,
 "nbformat_minor": 5
}
